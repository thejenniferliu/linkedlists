{
 "cells": [
  {
   "cell_type": "markdown",
   "metadata": {},
   "source": [
    "# Time/Space Complexity - Intro to Data Structures (User Defined)\n",
    "\n",
    "### Topics to discuss today:\n",
    "\n",
    "<ul>\n",
    "    <li>Time and Space Complexity - What is it/How do we measure it</li>\n",
    "    <li>Asymptotic Analysis</li>\n",
    "    <li><strong>Data Structures</strong></li>\n",
    "    <li>Some of the popular sorting algorithms</li>\n",
    "</ul>\n",
    "\n",
    "### Data Structures to discuss:\n",
    "- Arrays\n",
    "- Stacks\n",
    "- Queues\n",
    "- Linked Lists\n",
    "    - Singly Linked Lists\n",
    "    - Traversing A Linked List\n",
    "    - Finding a node in a linked list\n",
    "    - Adding to a linked list\n",
    "- Binary Search Trees\n",
    "    - Construction\n",
    "    - Traversal\n"
   ]
  },
  {
   "cell_type": "markdown",
   "metadata": {},
   "source": [
    "## Time and Space Complexity\n",
    "\n",
    "#### What is it?\n",
    "\n",
    "Time and space complexity is the measure of how much time a given action(function) will take to solve a problem. In the same fashion, we determine how much a given data structure will need in terms of memory allocation. A problem can have multiple solutions and finding the optimal solution for the problem needs to be analyzed in time and space.\n",
    "\n",
    "#### How do we measure Time and Space Complexity?\n",
    "\n",
    "In order to measure time and space complexity we use Asymptotic analysis. The reason for this is because we need a way to measure different algorithms (functions) based on the size of their inputs in a mathmatical way. For example, we could have a function that is computed as f(n) and another that is g(n^2). All things around the function staying constant, the only thing that changes is the size of the input. Below is the chart that shows the different Asymptotic analysis formats. "
   ]
  },
  {
   "cell_type": "markdown",
   "metadata": {},
   "source": [
    "<table style=\"text-align:center;\" class=\"table table-bordered\">\n",
    "<tbody><tr>\n",
    "<td>constant</td>\n",
    "<td>−</td>\n",
    "<td>Ο(1)</td>\n",
    "</tr>\n",
    "<tr>\n",
    "<td>logarithmic</td>\n",
    "<td>−</td>\n",
    "<td>Ο(log n)</td>\n",
    "</tr>\n",
    "<tr>\n",
    "<td>linear</td>\n",
    "<td>−</td>\n",
    "<td>Ο(n)</td>\n",
    "</tr>\n",
    "<tr>\n",
    "<td>Linear Logarithmic</td>\n",
    "<td>−</td>\n",
    "<td>Ο(n log n)</td>\n",
    "</tr>\n",
    "<tr>\n",
    "<td>quadratic</td>\n",
    "<td>−</td>\n",
    "<td>Ο(n<sup>2</sup>)</td>\n",
    "</tr>\n",
    "<tr>\n",
    "<td>cubic</td>\n",
    "<td>−</td>\n",
    "<td>Ο(n<sup>3</sup>)</td>\n",
    "</tr>\n",
    "<tr>\n",
    "<td>polynomial</td>\n",
    "<td>−</td>\n",
    "<td>n<sup>Ο(1)</sup></td>\n",
    "</tr>\n",
    "<tr>\n",
    "<td>exponential</td>\n",
    "<td>−</td>\n",
    "<td>2<sup>Ο(n)</sup></td>\n",
    "</tr>\n",
    "</tbody></table>"
   ]
  },
  {
   "cell_type": "markdown",
   "metadata": {},
   "source": [
    "## Arrays"
   ]
  },
  {
   "cell_type": "markdown",
   "metadata": {},
   "source": [
    "In python we benefit from the dynamic array which means the block of memory will expand as needed for the given input to the array. In traditional arrays (depending on the type of operating system) we will usually store our inputs in 4 or 8 consecutive blocks of memory. "
   ]
  },
  {
   "cell_type": "markdown",
   "metadata": {},
   "source": [
    "## Which in python looks like this:"
   ]
  },
  {
   "cell_type": "code",
   "execution_count": 1,
   "metadata": {},
   "outputs": [
    {
     "name": "stdout",
     "output_type": "stream",
     "text": [
      "[23, 45, 344, 454, 3453]\n"
     ]
    }
   ],
   "source": [
    "array = [23, 45, 344, 454, 3453]\n",
    "print(array) \n",
    "#python automatically expands and shrink - some dont\n",
    "#python will be slower \n"
   ]
  },
  {
   "cell_type": "code",
   "execution_count": 3,
   "metadata": {},
   "outputs": [
    {
     "name": "stdout",
     "output_type": "stream",
     "text": [
      "[1, 2, 3, 4, 5, 6, 7, 8, 9, 10]\n",
      "[1, 2, 3, 4, 5, 6, 7, 8, 9, 10]\n"
     ]
    }
   ],
   "source": [
    "list_of_10 = []\n",
    "for i in range(1, 11):\n",
    "    list_of_10.append(i)\n",
    "\n",
    "comp_of_10 = [i for i in range(1,11)]\n",
    "print(list_of_10)\n",
    "print(comp_of_10)\n",
    "\n",
    "#same as above  - but python is able to adjust the different sets of data"
   ]
  },
  {
   "cell_type": "markdown",
   "metadata": {},
   "source": [
    "### Let's take a look at some of the time and space analysis of arrays"
   ]
  },
  {
   "cell_type": "code",
   "execution_count": 6,
   "metadata": {},
   "outputs": [
    {
     "name": "stdout",
     "output_type": "stream",
     "text": [
      "23\n",
      "False\n",
      "[23, 45, 344, 454, 3453]\n"
     ]
    }
   ],
   "source": [
    "#indexing a list is constant time and constant space O(1)\n",
    "#grabbing one no matter what you're just grabbing one thing - so it will be constant even if data size is 1000\n",
    "#because only doing one thing and that's what were talking about\n",
    "\n",
    "indexing = array[0]\n",
    "print(indexing)\n",
    "\n",
    "#assigning an index value to a list: Constant time and space O(1)\n",
    "#whether there is 2000 or 2 values in the array, setting it to 2 takes same about of time/space\n",
    "array[2] = 54\n",
    "print(array)\n",
    "\n",
    "#search through array is linear time O(n), constant space O(1).\n",
    "#no need to allocate new space because the array is set. but linear time because the size of data is set\n",
    "print(236 in array)\n",
    "\n",
    "#copying a list: linear time O(n), and linear space O(n)\n",
    "#creating a completely new memory and place for the new data\n",
    "#linear time - because we copy each one - number of operations. linear space: dependent on how many inputs\n",
    "copied_array = array[:]\n",
    "print(copied_array)\n",
    "\n"
   ]
  },
  {
   "cell_type": "code",
   "execution_count": null,
   "metadata": {},
   "outputs": [],
   "source": [
    "def some_func(arr):\n",
    "    for x in range((len(arr))): #O(n) - linear time\n",
    "        arr[x] = x**2 #O(1) - constant time\n",
    "    for i in arr: #O(n) linear\n",
    "        for j in arr:  #O(n) linear\n",
    "            print(i*j) #O(1) - Constant\n",
    "    return arr #O(1) - Constant\n",
    "\n",
    "some_func([1, 2, 3, 4, 5])  #O(n*1) +(O(n) * O(n) * O(1)) + O(1)\n",
    "#O(n) + O(n**2) + O(1)\n",
    "#Drop constants and lower order times\n",
    "#O(n**2)\n"
   ]
  },
  {
   "cell_type": "markdown",
   "metadata": {},
   "source": [
    "## Stacks and Queues (Review)\n",
    "\n",
    "** Stacks ** as the name suggests is a data structure that allows for data to follow the Last In First Out priciple(LIFO). Think of a stack of pancakes for example. To get the first pancake you would  start with the top and go down.\n",
    "\n",
    "##### Searching through a stack will be Linear Time O(n) - Constant Space O(1)\n",
    "##### Selecting the first item will be done in Linear Time O(n) - Constant Space O(1)\n",
    "##### Selecting the last item will be done in Constant Time O(1) - Constant Space O(1)\n",
    "##### Adding to the stack will be done in Constant Time O(1) - Constant Space O(1)\n",
    "\n",
    "** Queues ** are similar but in this case follow the First In First Out principle(FIFO). Think of this as a line in a black friday sale. The first person camped out for the big screen tv is the first to get it.\n",
    "\n",
    "##### Searching through a queue will be Linear Time O(n) - Constant Space O(1)\n",
    "##### Selecting the first item will be done in Constant Time O(1) - Constant Space O(1)\n",
    "##### Selecting the last item will be done in Linear Time O(n) - Constant Space O(1)\n",
    "##### Adding to the queue should take Constant Time O(1) - Constant Space O(1)"
   ]
  },
  {
   "cell_type": "code",
   "execution_count": 9,
   "metadata": {},
   "outputs": [
    {
     "name": "stdout",
     "output_type": "stream",
     "text": [
      "STACK\n",
      "deque([10, 20, 30, 40, 50])\n",
      "50\n",
      "40\n",
      "30\n",
      "20\n",
      "10\n",
      "=========================\n",
      "QUEUE\n",
      "deque(['dave', 'bob', 'sarah', 'annie', 'jerry', 'betty'])\n",
      "dave\n",
      "bob\n",
      "sarah\n",
      "annie\n",
      "jerry\n",
      "betty\n"
     ]
    }
   ],
   "source": [
    "#https://docs.python.org/3/library/collections.html\n",
    "\n",
    "from collections import deque\n",
    "print(\"STACK\")\n",
    "\n",
    "stack = deque([10, 20, 30])\n",
    "\n",
    "#append adds to the end of stack\n",
    "stack.append(40)\n",
    "stack.append(50)\n",
    "print(stack)\n",
    "\n",
    "#last one in first one out, last one in was 50. first one out is 50.\n",
    "#stack.pop is constant time\n",
    "\n",
    "while stack:\n",
    "    print(stack.pop()) \n",
    "\n",
    "print('=' * 25)\n",
    "print(\"QUEUE\")\n",
    "\n",
    "queue = deque([])\n",
    "\n",
    "queue.append(\"dave\")\n",
    "queue.append(\"bob\")\n",
    "queue.append(\"sarah\")\n",
    "queue.append(\"annie\")\n",
    "queue.append(\"jerry\")\n",
    "queue.append(\"betty\")\n",
    "\n",
    "print(queue)\n",
    "while queue:\n",
    "    print(queue.popleft())\n",
    "\n",
    "#the order of stuff which is removed.\n",
    "#can do last one in, first one out (stack)\n",
    "#first one in (first one out) (queue)"
   ]
  },
  {
   "cell_type": "markdown",
   "metadata": {},
   "source": [
    "## Linked List (Data Structure)\n",
    "\n",
    "A linked list is created by using the node class. We create a Node object and create another class to use this node object. We pass the appropriate values thorugh the node object to point the to the next data elements.\n",
    "\n",
    "There are some advantages and disadvantages with this data structure. **Advantages** Linked Lists can save memory because they can be flexibile with memory management which saves memory. **Disadvantages** Finding or adding to the list requires traversing the entire list."
   ]
  },
  {
   "cell_type": "code",
   "execution_count": 12,
   "metadata": {},
   "outputs": [
    {
     "name": "stdout",
     "output_type": "stream",
     "text": [
      "Monday\n",
      "Wednesday\n",
      "Monday\n",
      "Tuesday\n",
      "Wednesday\n"
     ]
    }
   ],
   "source": [
    "#finding something in the middle of linked list is slow.\n",
    "#linked list is made of many nodes\n",
    "class LinkedListNode:\n",
    "    def __init__(self, value):\n",
    "        self.value = value\n",
    "        self.next = None #(don't know what were pointing at yet)\n",
    "    \n",
    "    def traverse_list(self):\n",
    "        node = self #current node is the node we are.\n",
    "        while node is not None:\n",
    "            print(node.value)\n",
    "            node = node.next\n",
    "\n",
    "node1 = LinkedListNode(\"Monday\")\n",
    "node2 = LinkedListNode(\"Tuesday\")\n",
    "node3 = LinkedListNode(\"Wednesday\")\n",
    "\n",
    "node1.next = node2\n",
    "node2.next = node3\n",
    "\n",
    "print(node1.value)\n",
    "print(node1.next.next.value)\n",
    "\n",
    "node1.traverse_list()\n"
   ]
  },
  {
   "cell_type": "code",
   "execution_count": 24,
   "metadata": {},
   "outputs": [
    {
     "name": "stdout",
     "output_type": "stream",
     "text": [
      "Monday\n",
      "Tuesday\n",
      "Wednesday\n",
      "Thursday\n",
      "Friday\n"
     ]
    }
   ],
   "source": [
    "# Complete Implementation of Linked List\n",
    "\n",
    "# 2 Classes - Node Class and Linked List Class\n",
    "\n",
    "class Node:\n",
    "    def __init__(self, value):\n",
    "        self.value = value\n",
    "        self.next = None\n",
    "\n",
    "    def __str__(self):\n",
    "        return self.value\n",
    "    def __repr__(self):\n",
    "        return f\"<{self.value}>\"\n",
    "\n",
    "\n",
    "class LinkedList:\n",
    "    def __init__(self):\n",
    "        self.head = None #start our linked list with nothing in it\n",
    "    \n",
    "    #method that will return a node based on value, or None if it does not exist\n",
    "    def _get_node(self, value_to_get):\n",
    "        #start with 1st node in linked list\n",
    "        node_to_check = self.head\n",
    "        while node_to_check is not None:\n",
    "            #if the value of the node is equal to the value_to_get\n",
    "            if node_to_check.value == value_to_get: \n",
    "                #return that node\n",
    "                return node_to_check\n",
    "            #if not move to the next node\n",
    "            node_to_check = node_to_check.next\n",
    "        #if the value_to_get is not found we return none\n",
    "        return None\n",
    "    def push_on(self, new_value): \n",
    "        #create a new node with the value\n",
    "        new_node = Node(new_value)\n",
    "        #set the next value for our new beginning node to the old beginning node\n",
    "        new_node.next = self.head\n",
    "        #set the new node to be the front/head\n",
    "        self.head = new_node\n",
    "\n",
    "    #method to add to tend of list\n",
    "    def append(self, new_value):\n",
    "        #create new node with value\n",
    "        new_node = Node(new_value)\n",
    "        #check if linked list is empty\n",
    "        if self.head is None:\n",
    "            #set teh head to our new node\n",
    "            self.head = new_node\n",
    "        #if its not empty\n",
    "        else:\n",
    "            node = self.head\n",
    "            while node.next is not None:\n",
    "                node = node.next\n",
    "            node.next  = new_node\n",
    "\n",
    "    def insert_after(self, prev_value, new_value): #method to insert method to linked list after a certain node\n",
    "        #get the previous node by its value\n",
    "        prev_node = self._get_node(prev_value)\n",
    "        #check if previous node exist\n",
    "        if prev_node is None:\n",
    "            print(f\"{prev_value} is not in the linked list\")\n",
    "            return None\n",
    "        #create new node with new value\n",
    "        new_node = Node(new_value)\n",
    "        new_node.next = prev_node.next\n",
    "        prev_node.next= new_node\n",
    "\n",
    "    #method to print out all items in the linked list\n",
    "    def traverse_list(self):\n",
    "        #start at the beginning of the lnked list\n",
    "        node = self.head \n",
    "        #while the node is not a NoneType (aka the last node) conitnue to loop\n",
    "        while node is not None:\n",
    "            #print out the node - __str__ method \n",
    "            print(node)\n",
    "            #set node to the next node in the link list\n",
    "            node = node.next\n",
    "\n",
    "weekdays = LinkedList()\n",
    "weekdays.push_on(\"Wednesday\")\n",
    "weekdays.push_on(\"Monday\")\n",
    "weekdays.append(\"Thursday\")\n",
    "weekdays.append(\"Friday\")\n",
    "weekdays.insert_after(\"Monday\", \"Tuesday\")\n",
    "weekdays.traverse_list()\n"
   ]
  },
  {
   "cell_type": "markdown",
   "metadata": {},
   "source": []
  },
  {
   "cell_type": "code",
   "execution_count": 26,
   "metadata": {},
   "outputs": [],
   "source": [
    "import time"
   ]
  },
  {
   "cell_type": "code",
   "execution_count": 27,
   "metadata": {},
   "outputs": [
    {
     "name": "stdout",
     "output_type": "stream",
     "text": [
      "0.03472280502319336\n",
      "0.0015175342559814453\n"
     ]
    }
   ],
   "source": [
    "a_linked_list = LinkedList()\n",
    "\n",
    "\n",
    "# Adding a new node the end of the list - O(n) - Linear Time\n",
    "start = time.time()\n",
    "\n",
    "for i in range(1000):\n",
    "    a_linked_list.append(i)\n",
    "\n",
    "end = time.time()\n",
    "\n",
    "print(end - start)\n",
    "\n",
    "# Adding a new node to the beginning of the list - O(1) - Constant Time\n",
    "start = time.time()\n",
    "\n",
    "for i in range(1000):\n",
    "    a_linked_list.push_on(i)\n",
    "\n",
    "end = time.time()\n",
    "\n",
    "print(end - start)"
   ]
  },
  {
   "cell_type": "code",
   "execution_count": null,
   "metadata": {},
   "outputs": [],
   "source": [
    "arr = [1, 2, 3, 4, 5] #running it 5 times. 5**2\n",
    "for i in arr:\n",
    "    for j in arr:\n",
    "        print(f\"i is {i} j is {j}\")\n",
    "\n"
   ]
  },
  {
   "cell_type": "markdown",
   "metadata": {},
   "source": [
    "## Binary Search Trees"
   ]
  },
  {
   "cell_type": "code",
   "execution_count": 38,
   "metadata": {},
   "outputs": [
    {
     "name": "stdout",
     "output_type": "stream",
     "text": [
      "15\n",
      "25\n",
      "50\n",
      "85\n",
      "95\n"
     ]
    }
   ],
   "source": [
    "class BST:\n",
    "    def __init__(self, value):\n",
    "        self.value = value\n",
    "        self.left = None\n",
    "        self.right = None\n",
    "    \n",
    "    def __repr__(self):\n",
    "        return f\"<{self.value}>\"\n",
    "\n",
    "    def insert(self, new_value):\n",
    "        if new_value < self.value:\n",
    "            if self.left is None:\n",
    "                self.left = BST(new_value)\n",
    "            else:\n",
    "                self.left.insert(new_value)\n",
    "        else:\n",
    "            if self.right is None:\n",
    "                self.right= BST(new_value)\n",
    "            else:\n",
    "                self.right.insert(new_value)\n",
    "    #returns true or false if value is in the tree\n",
    "    def contains(self, target):\n",
    "        #if target is less than the current node's value\n",
    "        if target < self.value:\n",
    "            #if the node's left subtree is empty/None\n",
    "            if self.left is None:\n",
    "                return False\n",
    "            else:\n",
    "                return self.left.contains(target)\n",
    "        elif target > self.value:\n",
    "            if self.right is None:\n",
    "                return False\n",
    "            else: \n",
    "                return self.right.contains(target)\n",
    "        else:\n",
    "            return True\n",
    "\n",
    "    def get_max_value(self):\n",
    "        if self.right is None:\n",
    "            return self.value\n",
    "        else:\n",
    "            return self.right.get_max_value()\n",
    "            \n",
    "    def get_min_value(self):\n",
    "        if self.left is None:\n",
    "            return self.value\n",
    "        else:\n",
    "            return self.left.get_min_value()\n",
    "    def remove(self, value_to_remove, parent = None):\n",
    "        #move to right or left to find the node to delete\n",
    "        if value_to_remove < self.value:\n",
    "            if self.left is not None:\n",
    "                self.left.remove(value_to_remove, self)\n",
    "        elif value_to_remove > self.value:\n",
    "            if self.right is not None:\n",
    "                self.right.remove(value_to_remove, self)\n",
    "        else:\n",
    "            #if the node to delete has both a left and right (2 children)\n",
    "            if self.left is not None and self.right is not None:\n",
    "                #find the largest value in the left subtree, copy into the right.\n",
    "                self.value = self.left.get_max_value()\n",
    "                #remove the node from which we copied\n",
    "                self.left.remove(self.value, self)\n",
    "            #if the left or right is none but node has no parent - just one parent\n",
    "            elif parent is None:\n",
    "                #if left is not empty\n",
    "                if self.left is not None:\n",
    "                    #set out root node to the current node's left\n",
    "                    self.value = self.left.value\n",
    "                    self.left = self.left.left\n",
    "                    self.right = self.left.right\n",
    "                elif self.right is not None:\n",
    "                    self.value = self.right.value\n",
    "                    self.left = self.right.left\n",
    "                    self.right = self.right.right\n",
    "                else: \n",
    "                    self.value = None\n",
    "            #if the node to delete\n",
    "            elif parent.left == self:\n",
    "                if self.left is not None:\n",
    "                    parent.left = self.left\n",
    "                else:\n",
    "                    parent.left = self.right\n",
    "            elif parent.right == self:\n",
    "                if self.left is not None:\n",
    "                    parent.right = self.right\n",
    "                else:\n",
    "                    parent.right = self.right\n",
    "    def inorder(self, root):\n",
    "        if root:\n",
    "            self.inorder(root.left)\n",
    "            print(root.value)\n",
    "            self.inorder(root.right)\n",
    "\n",
    "tree = BST(50)\n",
    "tree.insert(25)\n",
    "tree.insert(15)\n",
    "tree.insert(75)\n",
    "tree.insert(85)\n",
    "tree.insert(95)\n",
    "tree.get_max_value()\n",
    "tree.contains(20)\n",
    "tree.remove(75)\n",
    "tree.contains(75)\n",
    "tree.inorder(tree)"
   ]
  },
  {
   "cell_type": "code",
   "execution_count": null,
   "metadata": {},
   "outputs": [],
   "source": [
    "\n"
   ]
  },
  {
   "cell_type": "code",
   "execution_count": 39,
   "metadata": {},
   "outputs": [
    {
     "name": "stdout",
     "output_type": "stream",
     "text": [
      "95\n",
      "85\n",
      "50\n",
      "25\n",
      "15\n"
     ]
    }
   ],
   "source": [
    "#try to invert the binary tree\n",
    "def invertTree(root):\n",
    "    if root:\n",
    "        invertTree(root.left)\n",
    "        invertTree(root.right)\n",
    "        root.left, root.right = root.right, root.left\n",
    "        \n",
    "invertTree(tree)\n",
    "tree.inorder(tree)\n",
    "\n",
    "#for every output of the class(BST)\n",
    "#return the reverse version"
   ]
  },
  {
   "cell_type": "code",
   "execution_count": null,
   "metadata": {},
   "outputs": [],
   "source": []
  },
  {
   "cell_type": "markdown",
   "metadata": {},
   "source": [
    "# Homework"
   ]
  },
  {
   "cell_type": "markdown",
   "metadata": {},
   "source": [
    "#### Problem 1: Add a .remove method to the LinkedList\n",
    "\n",
    "Add a method to the LinkedList class to remove a node from the list.\n",
    "\n",
    "The method should take in a string of the value to remove and remove the node with that value from the LinkedList."
   ]
  },
  {
   "cell_type": "markdown",
   "metadata": {},
   "source": []
  },
  {
   "cell_type": "code",
   "execution_count": 3,
   "metadata": {},
   "outputs": [
    {
     "name": "stdout",
     "output_type": "stream",
     "text": [
      "Sunday\n",
      "Monday\n",
      "Tuesday\n",
      "Thursday\n",
      "Friday\n",
      "Saturday\n"
     ]
    }
   ],
   "source": [
    "class Node:\n",
    "    def __init__(self, value):\n",
    "        self.value = value\n",
    "        self.next = None\n",
    "        \n",
    "    def __str__(self):\n",
    "        return self.value\n",
    "    \n",
    "    def __repr__(self):\n",
    "        return f\"<Node|{self.value}>\"\n",
    "    \n",
    "    \n",
    "class LinkedList:\n",
    "    def __init__(self):\n",
    "        self.head = None\n",
    "        \n",
    "    def _get_node(self, value_to_get):\n",
    "        check = self.head\n",
    "        while check is not None:\n",
    "            if check.value == value_to_get:\n",
    "                return check\n",
    "            check = check.next\n",
    "        return None\n",
    "        \n",
    "    def push_on(self, new_value):\n",
    "        new_node = Node(new_value)\n",
    "        new_node.next = self.head\n",
    "        self.head = new_node\n",
    "        \n",
    "    def append(self, new_value):\n",
    "        new_node = Node(new_value)\n",
    "        \n",
    "        if self.head is None:\n",
    "            self.head = new_node\n",
    "        else:\n",
    "            node = self.head\n",
    "            while node.next is not None:\n",
    "                node = node.next\n",
    "            node.next = new_node\n",
    "            \n",
    "    def insert_after(self, prev_value, new_value):\n",
    "        prev_node = self._get_node(prev_value)\n",
    "        if prev_node is None:\n",
    "            print(f\"{prev_value} is not in linked list\")\n",
    "            return\n",
    "        \n",
    "        new_node = Node(new_value)\n",
    "        new_node.next = prev_node.next\n",
    "        prev_node.next = new_node\n",
    "        \n",
    "    def traverse_list(self):\n",
    "        node = self.head\n",
    "        while node:\n",
    "            print(node) \n",
    "            node = node.next\n",
    "    \n",
    "    def remove(self, value_to_remove):\n",
    "        gone_node = self._get_node(value_to_remove)\n",
    "        \n",
    "        check = self.head\n",
    "        \n",
    "        while check is not None:\n",
    "            if check.next == gone_node:\n",
    "                check.next = gone_node.next\n",
    "                break \n",
    "            check = check.next\n",
    "\n",
    "        \n",
    "            \n",
    "    \n",
    "weekdays = LinkedList()\n",
    "list_of_days = ['Sunday', 'Monday', 'Tuesday', 'Wednesday', 'Thursday', 'Friday', 'Saturday']\n",
    "for day in list_of_days:\n",
    "    weekdays.append(day)\n",
    "\n",
    "weekdays.remove('Wednesday')\n",
    "\n",
    "\n",
    "weekdays.traverse_list()"
   ]
  },
  {
   "cell_type": "code",
   "execution_count": null,
   "metadata": {},
   "outputs": [],
   "source": []
  }
 ],
 "metadata": {
  "kernelspec": {
   "display_name": "Python 3",
   "language": "python",
   "name": "python3"
  },
  "language_info": {
   "codemirror_mode": {
    "name": "ipython",
    "version": 3
   },
   "file_extension": ".py",
   "mimetype": "text/x-python",
   "name": "python",
   "nbconvert_exporter": "python",
   "pygments_lexer": "ipython3",
   "version": "3.10.8"
  },
  "vscode": {
   "interpreter": {
    "hash": "3ab5368e7ec7d93726c4b49a481fa74b0442170a02f03d047cec6ddd95fa5acf"
   }
  }
 },
 "nbformat": 4,
 "nbformat_minor": 2
}
